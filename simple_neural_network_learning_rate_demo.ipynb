{
 "cells": [
  {
   "cell_type": "markdown",
   "metadata": {},
   "source": [
    "based on\n",
    "https://www.linkedin.com/pulse/learning-rate-useful-artificial-neural-networks-ahmed-gad/"
   ]
  },
  {
   "cell_type": "code",
   "execution_count": 1,
   "metadata": {},
   "outputs": [],
   "source": [
    "import numpy  \n",
    "import matplotlib.pyplot as plt\n"
   ]
  },
  {
   "cell_type": "code",
   "execution_count": 2,
   "metadata": {},
   "outputs": [],
   "source": [
    "def activation_function(inpt):  \n",
    "    if(inpt > 250):  \n",
    "      return 250 # clip the result to 250  \n",
    "    else:  \n",
    "      return inpt # just return the input  "
   ]
  },
  {
   "cell_type": "code",
   "execution_count": 3,
   "metadata": {},
   "outputs": [],
   "source": [
    "def prediction_error(desired, expected):  \n",
    "    #calculates the mean of difference between values in desired, expected \n",
    "    return numpy.abs(numpy.mean(desired-expected)) # absolute error"
   ]
  },
  {
   "cell_type": "code",
   "execution_count": 4,
   "metadata": {},
   "outputs": [],
   "source": [
    "def update_weights(weights, predicted, idx, lr):  \n",
    "    weights = weights + lr*(desired_output[idx] - predicted)*inputs[idx] # updating weights  \n",
    "    return weights # new updated weights  "
   ]
  },
  {
   "cell_type": "code",
   "execution_count": 5,
   "metadata": {},
   "outputs": [],
   "source": [
    "#weights = numpy.array([0.05, .1]) #bias & weight of input  - randomly selected.\n",
    "weights = numpy.array([0.2, .01]) #experiment with different starting weights.\n",
    "inputs = numpy.array([60, 40, 100, 300, -50, 310]) # training inputs  \n",
    "desired_output = numpy.array([60, 40, 150, 250, -50, 250]) # training outputs  \n"
   ]
  },
  {
   "cell_type": "code",
   "execution_count": 6,
   "metadata": {},
   "outputs": [],
   "source": [
    "def training_loop(inpt, weights, learning_r):  \n",
    "    error = 1  \n",
    "    idx = 0 # start by the first training sample  \n",
    "    iteration = 0 #loop iteration variable\n",
    "    weights_history = []\n",
    "    while(iteration < 2000 or error >= 0.01): #while(error >= 0.1):  \n",
    "        predicted = activation_function(weights[0]*1+weights[1]*inputs[idx])  \n",
    "        error = prediction_error(desired_output[idx], predicted)  \n",
    "        weights = update_weights(weights, predicted, idx, learning_r)  \n",
    "        weights_history.append(weights)\n",
    "        idx = idx + 1 # go to the next sample  \n",
    "        idx = idx % inputs.shape[0] # restricts the index to the range of our samples\n",
    "        #nbb: iterates 2000 times over inputs array which has 6 elements.\n",
    "        iteration = iteration + 1 # next iteration  \n",
    "    return error, weights, weights_history"
   ]
  },
  {
   "cell_type": "code",
   "execution_count": 7,
   "metadata": {},
   "outputs": [],
   "source": [
    "new_inputs = numpy.array([10, 240, 550, -160, 260])  \n",
    "new_outputs = numpy.array([10, 240, 250, -160, 260])"
   ]
  },
  {
   "cell_type": "code",
   "execution_count": 8,
   "metadata": {},
   "outputs": [],
   "source": [
    "def predict_outputs(new_inputs, l_rate):\n",
    "    error, new_weights, weights_hist = training_loop(new_inputs, weights, l_rate)\n",
    "    print('Learned Weights : ', new_weights)  \n",
    "    error_ = []\n",
    "    predicted = []\n",
    "    for i in range(new_inputs.shape[0]):  \n",
    "        predicted.append(activation_function(new_weights[0]*1+new_weights[1]*new_inputs[i]))\n",
    "        error_.append(predicted[i] - new_outputs[i])\n",
    "        print 'Sample ', i+1, \"\\t input value:\", new_inputs[i], '\\t Expected = ', new_outputs[i], '\\t Predicted = ', predicted[i]\n",
    "    print numpy.sum(numpy.square(error_))\n",
    "    return predicted, weights_hist"
   ]
  },
  {
   "cell_type": "code",
   "execution_count": 9,
   "metadata": {},
   "outputs": [],
   "source": [
    "def plt_history(history):\n",
    "    hist_1 = numpy.asarray(history)[:, 0]\n",
    "    hist_2 = numpy.asarray(history)[:, 1]\n",
    "\n",
    "    plt.clf()\n",
    "    fig = plt.figure()\n",
    "    ax1 = fig.add_subplot(111)\n",
    "\n",
    "    ax1.scatter(range(0, hist_1.shape[0]), hist_1, s=10, c='b', marker=\"s\", label='weight 1')\n",
    "    ax1.scatter(range(0, hist_2.shape[0]), hist_2, s=10, c='r', marker=\"s\", label='weight 2')\n",
    "\n",
    "    plt.legend(loc='lower right');\n",
    "    plt.show()"
   ]
  },
  {
   "cell_type": "code",
   "execution_count": 19,
   "metadata": {},
   "outputs": [
    {
     "name": "stdout",
     "output_type": "stream",
     "text": [
      "('Learned Weights : ', array([ nan,  nan]))\n",
      "Sample  1 \t input value: 10 \t Expected =  10 \t Predicted =  nan\n",
      "Sample  2 \t input value: 240 \t Expected =  240 \t Predicted =  nan\n",
      "Sample  3 \t input value: 550 \t Expected =  250 \t Predicted =  nan\n",
      "Sample  4 \t input value: -160 \t Expected =  -160 \t Predicted =  nan\n",
      "Sample  5 \t input value: 260 \t Expected =  260 \t Predicted =  nan\n",
      "nan\n"
     ]
    },
    {
     "name": "stderr",
     "output_type": "stream",
     "text": [
      "/usr/local/lib/python2.7/dist-packages/ipykernel_launcher.py:7: RuntimeWarning: overflow encountered in double_scalars\n",
      "  import sys\n",
      "/usr/local/lib/python2.7/dist-packages/ipykernel_launcher.py:2: RuntimeWarning: invalid value encountered in add\n",
      "  \n"
     ]
    },
    {
     "data": {
      "text/plain": [
       "<matplotlib.figure.Figure at 0x7efee0dd9850>"
      ]
     },
     "metadata": {},
     "output_type": "display_data"
    },
    {
     "data": {
      "image/png": "[encoded data removed]",
      "text/plain": [
       "<matplotlib.figure.Figure at 0x7efeded9e050>"
      ]
     },
     "metadata": {},
     "output_type": "display_data"
    }
   ],
   "source": [
    "predicted1, w_hist1 = predict_outputs(new_inputs, .0005)\n",
    "plt_history(w_hist1)"
   ]
  },
  {
   "cell_type": "code",
   "execution_count": 17,
   "metadata": {},
   "outputs": [
    {
     "name": "stdout",
     "output_type": "stream",
     "text": [
      "('Learned Weights : ', array([ 1.47558379,  1.28558379]))\n",
      "Sample  1 \t input value: 10 \t Expected =  10 \t Predicted =  14.3314217051\n",
      "Sample  2 \t input value: 240 \t Expected =  240 \t Predicted =  250\n",
      "Sample  3 \t input value: 550 \t Expected =  250 \t Predicted =  250\n",
      "Sample  4 \t input value: -160 \t Expected =  -160 \t Predicted =  -204.217822829\n",
      "Sample  5 \t input value: 260 \t Expected =  260 \t Predicted =  250\n",
      "2173.9770697\n"
     ]
    },
    {
     "data": {
      "text/plain": [
       "<matplotlib.figure.Figure at 0x7efedec1a610>"
      ]
     },
     "metadata": {},
     "output_type": "display_data"
    },
    {
     "data": {
      "image/png": "[encoded data removed]",
      "text/plain": [
       "<matplotlib.figure.Figure at 0x7efeded9fed0>"
      ]
     },
     "metadata": {},
     "output_type": "display_data"
    }
   ],
   "source": [
    "predicted2, w_hist2 = predict_outputs(new_inputs, .00001)\n",
    "plt_history(w_hist2)# excluded due to weird graph results "
   ]
  },
  {
   "cell_type": "code",
   "execution_count": 12,
   "metadata": {},
   "outputs": [
    {
     "name": "stdout",
     "output_type": "stream",
     "text": [
      "('Learned Weights : ', array([ 1.13474355,  0.94474355]))\n",
      "Sample  1 \t input value: 10 \t Expected =  10 \t Predicted =  10.5821790359\n",
      "Sample  2 \t input value: 240 \t Expected =  240 \t Predicted =  227.87319524\n",
      "Sample  3 \t input value: 550 \t Expected =  250 \t Predicted =  250\n",
      "Sample  4 \t input value: -160 \t Expected =  -160 \t Predicted =  -150.024224246\n",
      "Sample  5 \t input value: 260 \t Expected =  260 \t Predicted =  246.768066215\n",
      "421.998499701\n"
     ]
    },
    {
     "data": {
      "text/plain": [
       "<matplotlib.figure.Figure at 0x7efedec41950>"
      ]
     },
     "metadata": {},
     "output_type": "display_data"
    },
    {
     "data": {
      "image/png": "[encoded data removed]",
      "text/plain": [
       "<matplotlib.figure.Figure at 0x7efedec37790>"
      ]
     },
     "metadata": {},
     "output_type": "display_data"
    }
   ],
   "source": [
    "predicted3, w_hist3 = predict_outputs(new_inputs, .0000001)\n",
    "plt_history(w_hist3)"
   ]
  },
  {
   "cell_type": "code",
   "execution_count": 13,
   "metadata": {},
   "outputs": [
    {
     "name": "stdout",
     "output_type": "stream",
     "text": [
      "('Learned Weights : ', array([ 0.99330543,  0.80330543]))\n",
      "Sample  1 \t input value: 10 \t Expected =  10 \t Predicted =  9.02635975674\n",
      "Sample  2 \t input value: 240 \t Expected =  240 \t Predicted =  193.786609216\n",
      "Sample  3 \t input value: 550 \t Expected =  250 \t Predicted =  250\n",
      "Sample  4 \t input value: -160 \t Expected =  -160 \t Predicted =  -127.535563756\n",
      "Sample  5 \t input value: 260 \t Expected =  260 \t Predicted =  209.852717864\n",
      "5705.3149893\n"
     ]
    },
    {
     "data": {
      "text/plain": [
       "<matplotlib.figure.Figure at 0x7efedeb37450>"
      ]
     },
     "metadata": {},
     "output_type": "display_data"
    },
    {
     "data": {
      "image/png": "[encoded data removed]",
      "text/plain": [
       "<matplotlib.figure.Figure at 0x7efedebaee90>"
      ]
     },
     "metadata": {},
     "output_type": "display_data"
    }
   ],
   "source": [
    "predicted4, w_hist4 = predict_outputs(new_inputs, .00000001)\n",
    "plt_history(w_hist4)"
   ]
  },
  {
   "cell_type": "code",
   "execution_count": 14,
   "metadata": {},
   "outputs": [
    {
     "data": {
      "image/png": "[encoded data removed]",
      "text/plain": [
       "<matplotlib.figure.Figure at 0x7efedebaef90>"
      ]
     },
     "metadata": {},
     "output_type": "display_data"
    }
   ],
   "source": [
    "#plot new_outputs vs predicted1/2/3/4\n",
    "fig = plt.figure()\n",
    "ax1 = fig.add_subplot(111)\n",
    "\n",
    "ax1.scatter(new_inputs, new_outputs, s=10, c='b', marker=\"s\", label='input')\n",
    "ax1.scatter(new_inputs, predicted1, s=10, c='r', marker=\"o\", label='predicted1')\n",
    "ax1.scatter(new_inputs, predicted1, s=10, c='y', marker=\"o\", label='predicted2')\n",
    "ax1.scatter(new_inputs, predicted1, s=10, c='b', marker=\"o\", label='predicted3')\n",
    "ax1.scatter(new_inputs, predicted1, s=10, c='g', marker=\"o\", label='predicted4')\n",
    "\n",
    "\n",
    "plt.legend(loc='upper left');\n",
    "plt.show()"
   ]
  },
  {
   "cell_type": "code",
   "execution_count": null,
   "metadata": {},
   "outputs": [],
   "source": []
  }
 ],
 "metadata": {
  "kernelspec": {
   "display_name": "Python 2",
   "language": "python",
   "name": "python2"
  },
  "language_info": {
   "codemirror_mode": {
    "name": "ipython",
    "version": 2
   },
   "file_extension": ".py",
   "mimetype": "text/x-python",
   "name": "python",
   "nbconvert_exporter": "python",
   "pygments_lexer": "ipython2",
   "version": "2.7.12"
  }
 },
 "nbformat": 4,
 "nbformat_minor": 2
}
